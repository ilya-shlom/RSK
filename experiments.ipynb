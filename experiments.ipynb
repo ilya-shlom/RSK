{
 "cells": [
  {
   "cell_type": "code",
   "execution_count": null,
   "metadata": {
    "collapsed": true
   },
   "outputs": [],
   "source": [
    "import numpy as np\n",
    "import pandas as pd\n",
    "import matplotlib.pyplot as plt\n",
    "import math"
   ]
  },
  {
   "cell_type": "code",
   "execution_count": null,
   "outputs": [],
   "source": [
    "Q_amount = []\n",
    "Q_uniques = []\n",
    "Q_W_amount = []\n",
    "Ws = {}\n",
    "trash = 0\n",
    "for i in range(8):\n",
    "    Q_W_amount.append([])\n",
    "    Q_uniques.append([])\n",
    "P_amount = []\n",
    "permutations_amount = []\n",
    "for i in range(3, 11):\n",
    "    data = pd.read_csv(f'results/results_{i}.csv', delimiter=';')\n",
    "    permutations_amount.append(len(data[\"W\"]))\n",
    "#     experiment 1: count unique Q-tableaux\n",
    "    Q = set(data[\"Q\"])\n",
    "    Q_amount.append(len(Q))\n",
    "#     experiment 2: amount of perms for each Q\n",
    "    Q_uniques[i-3], Q_W_amount[i-3] = np.unique(data[\"Q\"], return_counts=True)\n",
    "    '''\n",
    "    Берем все уникальные Q, сохраняем в словарь,\n",
    "    в соответствие каждому Q записываем перестановку\n",
    "    '''\n",
    "    # data = np.array(data)\n",
    "    # print('np array done')\n",
    "    # for q in Q_uniques[i-3]:\n",
    "    #     w_temp = []\n",
    "    #     for line in data:\n",
    "    #         if line[3] == q:\n",
    "    #             w_temp.append(line[0])\n",
    "    #     Ws.update({q: w_temp})\n",
    "    print('done' + str(i))"
   ],
   "metadata": {
    "collapsed": false
   }
  },
  {
   "cell_type": "code",
   "execution_count": null,
   "outputs": [],
   "source": [
    "Q_amount"
   ],
   "metadata": {
    "collapsed": false
   }
  },
  {
   "cell_type": "code",
   "execution_count": null,
   "outputs": [],
   "source": [
    "Q_W_amount[2]"
   ],
   "metadata": {
    "collapsed": false
   }
  },
  {
   "cell_type": "code",
   "execution_count": null,
   "outputs": [],
   "source": [
    "import pickle\n",
    "with open('Q_W.pickle', 'wb') as handle:\n",
    "    pickle.dump(Ws, handle)"
   ],
   "metadata": {
    "collapsed": false
   }
  },
  {
   "cell_type": "code",
   "execution_count": null,
   "outputs": [],
   "source": [
    "x = np.arange(3, 11, 1)\n",
    "y = np.array(Q_amount)\n",
    "labels = \"Кол-во уникальных Q\""
   ],
   "metadata": {
    "collapsed": false
   }
  },
  {
   "cell_type": "code",
   "execution_count": null,
   "outputs": [],
   "source": [
    "'''\n",
    "График 1: x - мощность перестановок, y - кол-во уникальных Q\n",
    "График 2: поиск наиболее близкой к графику 1 функции\n",
    "'''\n",
    "plt.figure(figsize=(6, 8), dpi=80)\n",
    "plt.ylim(0, 10000)\n",
    "plt.plot(x, y, 'o-', label=labels)\n",
    "plt.legend(loc='upper left')\n",
    "plt.grid(True)\n",
    "x_1 = np.arange(3, 10, 0.01)\n",
    "plt.plot(x_1, (math.pi ** (x_1 - 2)), '-', label='pi^x')\n",
    "plt.legend(loc='upper left')\n",
    "plt.yticks([y[-4], y[-3], y[-2], 4000, 6000, 8000, y[-1]])\n",
    "plt.savefig(\"Q_tableaux.png\", dpi=80)"
   ],
   "metadata": {
    "collapsed": false
   }
  },
  {
   "cell_type": "code",
   "execution_count": null,
   "outputs": [],
   "source": [
    "plt.figure(figsize=(6, 8), dpi=80)\n",
    "plt.plot(x, math.pi ** (x - 2) - y, 'o-', label='pi^x - y')\n",
    "plt.yticks(math.pi ** (x - 2) - y)\n",
    "plt.legend(loc='upper left')\n",
    "plt.grid(True)\n",
    "x_2 = np.arange(3, 9, 0.01)\n",
    "plt.plot(x_2, (math.e ** (x_2 - 3)), '-', label='e^x')\n",
    "plt.legend(loc='upper left')"
   ],
   "metadata": {
    "collapsed": false
   }
  },
  {
   "cell_type": "code",
   "execution_count": null,
   "outputs": [],
   "source": [
    "'''\n",
    "График: x - номер таблицы Q, y - кол-во ее повторений\n",
    "'''\n",
    "y = [Q_W_amount[i] for i in range(8)]\n",
    "plt.figure(figsize=(8, 6), dpi=80)\n",
    "for i in range(3, 4):\n",
    "    x = np.array([i+1 for i in range(len(y[i]))])\n",
    "    plt.yticks(y[i])\n",
    "    # plt.ylim(200)\n",
    "    plt.plot(x, y[i], 'o', label=f'N={i+3}')\n",
    "    plt.legend(loc='upper left')\n",
    "plt.grid(True)\n",
    "plt.xlabel('Порядковый номер уникальной Q', fontsize=16)\n",
    "plt.ylabel('Количество перестановок', fontsize=16)\n",
    "plt.savefig(\"Q_amounts_6_dots.png\", dpi=80)"
   ],
   "metadata": {
    "collapsed": false
   }
  },
  {
   "cell_type": "code",
   "execution_count": null,
   "outputs": [],
   "source": [
    "'''\n",
    "Для каждой формы Q подсчитать кол-во повторений\n",
    "'''\n",
    "# Experiment 3: how many Q-tableaux for each form\n",
    "forms = {}\n",
    "for i in range(8):\n",
    "    for Q in Q_uniques[i]:\n",
    "        # dictionary {Q-form: amount of repeats}\n",
    "        line = 0\n",
    "        form = ''\n",
    "        for x in Q:\n",
    "            if x == ',':\n",
    "                line += 1\n",
    "            elif x == 'n':\n",
    "                form += str(line)\n",
    "                line = 0\n",
    "        if form not in forms.keys():\n",
    "            forms.update({form: 1})\n",
    "        else:\n",
    "            forms[form] += 1"
   ],
   "metadata": {
    "collapsed": false
   }
  },
  {
   "cell_type": "code",
   "execution_count": null,
   "outputs": [],
   "source": [
    "forms"
   ],
   "metadata": {
    "collapsed": false
   }
  },
  {
   "cell_type": "code",
   "execution_count": null,
   "outputs": [],
   "source": [
    "'''\n",
    "Для каждой формы Q вывести все перестановки,\n",
    "у которых Q имеет взятую форму\n",
    "'''\n",
    "# Experiment 4: permutations for each form\n",
    "forms_w = {}\n",
    "for i in range(8):\n",
    "    for q in Q_uniques[i]:\n",
    "        # dictionary {Q-form: permutations}\n",
    "        line = 0\n",
    "        form = ''\n",
    "        for x in q:\n",
    "            if x == ',':\n",
    "                line += 1\n",
    "            elif x == 'n':\n",
    "                form += str(line)\n",
    "                line = 0\n",
    "        if form not in forms_w.keys():\n",
    "            forms_w.update({form: []})\n",
    "        for w in Ws[q]:\n",
    "            forms_w[form].append(w)"
   ],
   "metadata": {
    "collapsed": false
   }
  },
  {
   "cell_type": "code",
   "execution_count": null,
   "outputs": [],
   "source": [
    "print(forms_w['31'], forms_w['211'], sep='\\n')"
   ],
   "metadata": {
    "collapsed": false
   }
  },
  {
   "cell_type": "code",
   "execution_count": null,
   "outputs": [],
   "source": [
    "print(forms_w['41'], forms_w['2111'], sep='\\n')"
   ],
   "metadata": {
    "collapsed": false
   }
  },
  {
   "cell_type": "markdown",
   "source": [
    "Ищем классы перестановок:"
   ],
   "metadata": {
    "collapsed": false
   }
  },
  {
   "cell_type": "code",
   "execution_count": null,
   "outputs": [],
   "source": [
    "print(Ws['1,2,5,n3,4,n'], Ws['1,3,5,n2,n4,n'], sep='\\n')"
   ],
   "metadata": {
    "collapsed": false
   }
  },
  {
   "cell_type": "code",
   "execution_count": null,
   "outputs": [],
   "source": [
    "y = [np.sort(Q_W_amount[i]) for i in range(8)]\n",
    "plt.figure(figsize=(6, 8), dpi=80)\n",
    "for i in range(5, 7):\n",
    "    x = np.array([i+1 for i in range(len(y[i]))])\n",
    "    plt.yticks(y[i])\n",
    "    plt.plot(x, y[i], '-', label=f'N={i+3}')\n",
    "    plt.legend(loc='upper left')\n",
    "plt.grid(True)\n",
    "plt.savefig(\"Q_amounts_8-9_sorted.png\", dpi=80)"
   ],
   "metadata": {
    "collapsed": false
   }
  },
  {
   "cell_type": "code",
   "execution_count": null,
   "outputs": [],
   "source": [],
   "metadata": {
    "collapsed": false
   }
  },
  {
   "cell_type": "markdown",
   "source": [
    "Теперь считаем для перестановок у которых Q не меняется поле rc"
   ],
   "metadata": {
    "collapsed": false
   }
  },
  {
   "cell_type": "code",
   "execution_count": null,
   "outputs": [],
   "source": [
    "amounts = []\n",
    "amounts_unique = [0] * 11\n",
    "Q_rc_uniques = []\n",
    "for i in range(11):\n",
    "    Q_rc_uniques.append([])\n",
    "for i in range(1, 12):\n",
    "    data = pd.read_csv(f'results/simil_Q/results_simil_Q_{i}.csv', delimiter=';')\n",
    "    amounts.append(len(data))\n",
    "    np.array(data)\n",
    "    Q_rc_uniques[i-1], amounts_unique[i-1] = np.unique(data[\"Q\"], return_counts=True)\n",
    "    '''\n",
    "    проверим, что знаки неравенства\n",
    "    не меняются после применения rc\n",
    "    (не проверяем для перестановок с N=1)\n",
    "    '''\n",
    "    if i != 1:\n",
    "        data = np.array(data)\n",
    "        flag = True\n",
    "        for line in data:\n",
    "            w = line[0].split(',')\n",
    "            w.pop()\n",
    "            wrc = line[1].split(',')\n",
    "            wrc.pop()\n",
    "            for j in range(i-1):\n",
    "                if ((int(w[j]) > int(w[j+1])) and (int(wrc[j]) < int(wrc[j+1]))) \\\n",
    "                        or ((int(w[j]) < int(w[j+1])) and (int(wrc[j]) > int(wrc[j+1]))):\n",
    "                    flag = False\n",
    "                    break\n",
    "        print(f'N={i} - {flag}')"
   ],
   "metadata": {
    "collapsed": false
   }
  },
  {
   "cell_type": "code",
   "execution_count": null,
   "outputs": [],
   "source": [
    "print(Q_amount, amounts_unique, sep='\\n')"
   ],
   "metadata": {
    "collapsed": false
   }
  },
  {
   "cell_type": "code",
   "execution_count": null,
   "outputs": [],
   "source": [
    "'''\n",
    "количество таблиц, у которых она совпадает после применения операции rc\n",
    "'''\n",
    "x = np.arange(1, 12, 1)\n",
    "y = np.array(amounts_unique)\n",
    "labels = \"Кол-во уникальных Q\"\n",
    "plt.figure(figsize=(6, 8), dpi=80)\n",
    "plt.ylim(0, 350)\n",
    "plt.yticks(y[3:])\n",
    "plt.xticks(x)\n",
    "plt.plot(x, y, 'o-', label=labels)\n",
    "plt.legend(loc='upper left')\n",
    "plt.xlabel('Мощность перестановки', fontsize=16)\n",
    "plt.ylabel('Уникальные таблицы Q', fontsize=16)\n",
    "plt.grid(True)\n",
    "plt.savefig(\"Q_amounts_rc.png\", dpi=80)"
   ],
   "metadata": {
    "collapsed": false
   }
  },
  {
   "cell_type": "code",
   "execution_count": null,
   "outputs": [],
   "source": [],
   "metadata": {
    "collapsed": false
   }
  }
 ],
 "metadata": {
  "kernelspec": {
   "display_name": "Python 3",
   "language": "python",
   "name": "python3"
  },
  "language_info": {
   "codemirror_mode": {
    "name": "ipython",
    "version": 2
   },
   "file_extension": ".py",
   "mimetype": "text/x-python",
   "name": "python",
   "nbconvert_exporter": "python",
   "pygments_lexer": "ipython2",
   "version": "2.7.6"
  }
 },
 "nbformat": 4,
 "nbformat_minor": 0
}
